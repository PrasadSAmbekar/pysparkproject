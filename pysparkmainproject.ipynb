{
  "nbformat": 4,
  "nbformat_minor": 0,
  "metadata": {
    "colab": {
      "provenance": [],
      "include_colab_link": true
    },
    "kernelspec": {
      "name": "python3",
      "display_name": "Python 3"
    },
    "language_info": {
      "name": "python"
    }
  },
  "cells": [
    {
      "cell_type": "markdown",
      "metadata": {
        "id": "view-in-github",
        "colab_type": "text"
      },
      "source": [
        "<a href=\"https://colab.research.google.com/github/PrasadSAmbekar/pysparkproject/blob/main/pysparkmainproject.ipynb\" target=\"_parent\"><img src=\"https://colab.research.google.com/assets/colab-badge.svg\" alt=\"Open In Colab\"/></a>"
      ]
    },
    {
      "cell_type": "markdown",
      "source": [
        "## Installation & importation librairies"
      ],
      "metadata": {
        "id": "mT-66oFxE9Qg"
      }
    },
    {
      "cell_type": "code",
      "execution_count": null,
      "metadata": {
        "id": "9bKob1hqBsjz",
        "colab": {
          "base_uri": "https://localhost:8080/"
        },
        "outputId": "4f8258d8-6f91-489d-8ec3-6dea9c2ed7e1"
      },
      "outputs": [
        {
          "output_type": "stream",
          "name": "stdout",
          "text": [
            "Collecting pyspark\n",
            "  Downloading pyspark-3.5.1.tar.gz (317.0 MB)\n",
            "\u001b[2K     \u001b[90m━━━━━━━━━━━━━━━━━━━━━━━━━━━━━━━━━━━━━━━━\u001b[0m \u001b[32m317.0/317.0 MB\u001b[0m \u001b[31m3.2 MB/s\u001b[0m eta \u001b[36m0:00:00\u001b[0m\n",
            "\u001b[?25h  Preparing metadata (setup.py) ... \u001b[?25l\u001b[?25hdone\n",
            "Requirement already satisfied: py4j==0.10.9.7 in /usr/local/lib/python3.10/dist-packages (from pyspark) (0.10.9.7)\n",
            "Building wheels for collected packages: pyspark\n",
            "  Building wheel for pyspark (setup.py) ... \u001b[?25l\u001b[?25hdone\n",
            "  Created wheel for pyspark: filename=pyspark-3.5.1-py2.py3-none-any.whl size=317488491 sha256=df651ffca7aea80d107157e46f6470a7528038708d42ebd4171614b4f44b55bf\n",
            "  Stored in directory: /root/.cache/pip/wheels/80/1d/60/2c256ed38dddce2fdd93be545214a63e02fbd8d74fb0b7f3a6\n",
            "Successfully built pyspark\n",
            "Installing collected packages: pyspark\n",
            "Successfully installed pyspark-3.5.1\n"
          ]
        }
      ],
      "source": [
        "# installation des librairies\n",
        "! pip install pyspark\n",
        "\n",
        "from pyspark.sql import SparkSession\n",
        "from pyspark.sql.functions import *\n",
        "from pyspark.ml.feature import VectorAssembler\n",
        "from pyspark.ml.classification import LogisticRegression\n",
        "from pyspark.ml.evaluation import BinaryClassificationEvaluator\n",
        "from pyspark.ml.classification import LogisticRegressionModel\n",
        "import pandas as ps"
      ]
    },
    {
      "cell_type": "markdown",
      "source": [
        "## start a Spark session (sparkSession)"
      ],
      "metadata": {
        "id": "4tLrCohkFjw9"
      }
    },
    {
      "cell_type": "markdown",
      "source": [
        "start a Spark session (sparkSession)\n",
        "This code creates a new Spark session.\n",
        "\n",
        "The SparkSession.builder() method creates a new builder to build a Spark session. The call to appName(\"spark\") sets the name of the Spark application. Finally, getOrCreate() creates a new Spark session if it does not already exist, or returns the existing session if it does. The new Spark session is stored in the spark variable."
      ],
      "metadata": {
        "id": "qDAWsLgpHBBT"
      }
    },
    {
      "cell_type": "code",
      "source": [
        "spark = SparkSession.builder.appName(\"spark\").getOrCreate()"
      ],
      "metadata": {
        "id": "BGfjUA9JGbcL"
      },
      "execution_count": null,
      "outputs": []
    },
    {
      "cell_type": "markdown",
      "source": [
        "## Data import & mining"
      ],
      "metadata": {
        "id": "cIjaZwF-IcQk"
      }
    },
    {
      "cell_type": "markdown",
      "source": [
        "The dataset is downloaded from github. This data comes from Kaggle.\n",
        "\n"
      ],
      "metadata": {
        "id": "X1d2-xTUJxC1"
      }
    },
    {
      "cell_type": "code",
      "source": [
        "df = spark.read.csv('diabetes.csv', header = True, inferSchema=True) # predicts column type\n",
        "df.show(6)"
      ],
      "metadata": {
        "colab": {
          "base_uri": "https://localhost:8080/"
        },
        "id": "QxwuHSH-If1Q",
        "outputId": "db4d369d-d8bd-4eea-d78e-9fad6dd2de09"
      },
      "execution_count": null,
      "outputs": [
        {
          "output_type": "stream",
          "name": "stdout",
          "text": [
            "+-----------+-------+-------------+-------------+-------+----+------------------------+---+-------+\n",
            "|Pregnancies|Glucose|BloodPressure|SkinThickness|Insulin| BMI|DiabetesPedigreeFunction|Age|Outcome|\n",
            "+-----------+-------+-------------+-------------+-------+----+------------------------+---+-------+\n",
            "|          6|    148|           72|           35|      0|33.6|                   0.627| 50|      1|\n",
            "|          1|     85|           66|           29|      0|26.6|                   0.351| 31|      0|\n",
            "|          8|    183|           64|            0|      0|23.3|                   0.672| 32|      1|\n",
            "|          1|     89|           66|           23|     94|28.1|                   0.167| 21|      0|\n",
            "|          0|    137|           40|           35|    168|43.1|                   2.288| 33|      1|\n",
            "|          5|    116|           74|            0|      0|25.6|                   0.201| 30|      0|\n",
            "+-----------+-------+-------------+-------------+-------+----+------------------------+---+-------+\n",
            "only showing top 6 rows\n",
            "\n"
          ]
        }
      ]
    },
    {
      "cell_type": "markdown",
      "source": [
        "la colonne `Outcome` est la variable de sortie. `0 : normal, 1 : diabétique`."
      ],
      "metadata": {
        "id": "6O9-ZNIWWQEb"
      }
    },
    {
      "cell_type": "code",
      "source": [
        "# check the type of columns in the df\n",
        "df.printSchema()"
      ],
      "metadata": {
        "colab": {
          "base_uri": "https://localhost:8080/"
        },
        "id": "3eHbw8jMWMfI",
        "outputId": "c92c1d7a-2987-45d4-f8a7-604cc04ce1d8"
      },
      "execution_count": null,
      "outputs": [
        {
          "output_type": "stream",
          "name": "stdout",
          "text": [
            "root\n",
            " |-- Pregnancies: integer (nullable = true)\n",
            " |-- Glucose: integer (nullable = true)\n",
            " |-- BloodPressure: integer (nullable = true)\n",
            " |-- SkinThickness: integer (nullable = true)\n",
            " |-- Insulin: integer (nullable = true)\n",
            " |-- BMI: double (nullable = true)\n",
            " |-- DiabetesPedigreeFunction: double (nullable = true)\n",
            " |-- Age: integer (nullable = true)\n",
            " |-- Outcome: integer (nullable = true)\n",
            "\n"
          ]
        }
      ]
    },
    {
      "cell_type": "code",
      "source": [
        "# Check the dimensions of the df\n",
        "print(df.count(), ':', len(df.columns))"
      ],
      "metadata": {
        "colab": {
          "base_uri": "https://localhost:8080/"
        },
        "id": "cE7D_mf6Wd4U",
        "outputId": "c85b0b2c-6cef-4844-f41b-d206d40ba9a0"
      },
      "execution_count": null,
      "outputs": [
        {
          "output_type": "stream",
          "name": "stdout",
          "text": [
            "768 : 9\n"
          ]
        }
      ]
    },
    {
      "cell_type": "code",
      "source": [],
      "metadata": {
        "id": "D3YvLaYPK9XB"
      },
      "execution_count": null,
      "outputs": []
    },
    {
      "cell_type": "code",
      "source": [
        "# Calculate the number of sick and normal people in the dataset\n",
        "df.groupBy(\"Outcome\").count().show()"
      ],
      "metadata": {
        "colab": {
          "base_uri": "https://localhost:8080/"
        },
        "id": "m3W_f9bnXWkj",
        "outputId": "cee52e61-bc29-46e4-927d-75fa8d8fb64a"
      },
      "execution_count": null,
      "outputs": [
        {
          "output_type": "stream",
          "name": "stdout",
          "text": [
            "+-------+-----+\n",
            "|Outcome|count|\n",
            "+-------+-----+\n",
            "|      1|  268|\n",
            "|      0|  500|\n",
            "+-------+-----+\n",
            "\n"
          ]
        }
      ]
    },
    {
      "cell_type": "code",
      "source": [
        "df.describe().show()"
      ],
      "metadata": {
        "colab": {
          "base_uri": "https://localhost:8080/"
        },
        "id": "TzK1auMOZRZN",
        "outputId": "6938c567-7c4b-448c-9f44-065190ebaf0f"
      },
      "execution_count": null,
      "outputs": [
        {
          "output_type": "stream",
          "name": "stdout",
          "text": [
            "+-------+------------------+-----------------+------------------+------------------+------------------+------------------+------------------------+------------------+------------------+\n",
            "|summary|       Pregnancies|          Glucose|     BloodPressure|     SkinThickness|           Insulin|               BMI|DiabetesPedigreeFunction|               Age|           Outcome|\n",
            "+-------+------------------+-----------------+------------------+------------------+------------------+------------------+------------------------+------------------+------------------+\n",
            "|  count|               768|              768|               768|               768|               768|               768|                     768|               768|               768|\n",
            "|   mean|3.8450520833333335|     120.89453125|       69.10546875|20.536458333333332| 79.79947916666667|31.992578124999977|      0.4718763020833327|33.240885416666664|0.3489583333333333|\n",
            "| stddev|  3.36957806269887|31.97261819513622|19.355807170644777|15.952217567727642|115.24400235133803| 7.884160320375441|       0.331328595012775|11.760231540678689| 0.476951377242799|\n",
            "|    min|                 0|                0|                 0|                 0|                 0|               0.0|                   0.078|                21|                 0|\n",
            "|    max|                17|              199|               122|                99|               846|              67.1|                    2.42|                81|                 1|\n",
            "+-------+------------------+-----------------+------------------+------------------+------------------+------------------+------------------------+------------------+------------------+\n",
            "\n"
          ]
        }
      ]
    },
    {
      "cell_type": "markdown",
      "source": [
        "The table shows basic statistics for numeric columns. The minimum value for glucose, insulin and blood pressure is 0!. These values ​​need to be cleaned."
      ],
      "metadata": {
        "id": "vUcIpjPdZ5T-"
      }
    },
    {
      "cell_type": "markdown",
      "source": [
        "## data cleaning"
      ],
      "metadata": {
        "id": "xASgRkBuayvb"
      }
    },
    {
      "cell_type": "code",
      "source": [
        "# Check for missing values ​​in df\n",
        "for col in df.columns:\n",
        "  print(col + \":\", df[df[col].isNull()].count())"
      ],
      "metadata": {
        "colab": {
          "base_uri": "https://localhost:8080/"
        },
        "id": "YZxayIagdWxz",
        "outputId": "650737f1-2077-4fca-8b5d-68f838d62679"
      },
      "execution_count": null,
      "outputs": [
        {
          "output_type": "stream",
          "name": "stdout",
          "text": [
            "Pregnancies: 0\n",
            "Glucose: 0\n",
            "BloodPressure: 0\n",
            "SkinThickness: 0\n",
            "Insulin: 0\n",
            "BMI: 0\n",
            "DiabetesPedigreeFunction: 0\n",
            "Age: 0\n",
            "Outcome: 0\n"
          ]
        }
      ]
    },
    {
      "cell_type": "markdown",
      "source": [
        "Our dataset does not contain any missing values."
      ],
      "metadata": {
        "id": "zflt95gqfhJ0"
      }
    },
    {
      "cell_type": "code",
      "source": [
        "# create a function to count the number of 0 values ​​and their percentage per column\n",
        "def count_zeros(df, columns):\n",
        "  for col in columns:\n",
        "    num_zeros = df.filter(df[col] == 0).count()\n",
        "    total_rows = df.count()\n",
        "    percentage = (num_zeros / total_rows) * 100\n",
        "    print(\"{} : {} ({:.2f}%)\".format(col, num_zeros, percentage))"
      ],
      "metadata": {
        "id": "t1L5MwSUaz13"
      },
      "execution_count": null,
      "outputs": []
    },
    {
      "cell_type": "code",
      "source": [
        "liste_cols = ['Glucose', 'Bloodpressure', 'SkinThickness', 'Insulin', 'BMI']\n",
        "count_zeros(df, liste_cols)"
      ],
      "metadata": {
        "colab": {
          "base_uri": "https://localhost:8080/"
        },
        "id": "CSFgLqaTgtHy",
        "outputId": "f1572bae-c729-49bd-bf5c-ce8ce9b3ba38"
      },
      "execution_count": null,
      "outputs": [
        {
          "output_type": "stream",
          "name": "stdout",
          "text": [
            "Glucose : 5 (0.65%)\n",
            "Bloodpressure : 35 (4.56%)\n",
            "SkinThickness : 227 (29.56%)\n",
            "Insulin : 374 (48.70%)\n",
            "BMI : 11 (1.43%)\n"
          ]
        }
      ]
    },
    {
      "cell_type": "markdown",
      "source": [
        "These percentages indicate that the Glucose column has the lowest percentage of zero values, with only 0.65%. The Insulin column has the highest percentage of zero values, at 47.80%. The other columns have percentages of zero values ​​between 1.40% and 28.65%"
      ],
      "metadata": {
        "id": "onXtck5MmXXh"
      }
    },
    {
      "cell_type": "code",
      "source": [
        "# show the average value for each column and do the replacement\n",
        "## méthode 1 :\n",
        "for i in df.columns[1:6]:\n",
        "  mean_val = df.agg({i:'mean'}).first()[0]\n",
        "  print(\"the average value of column {} is: {}\".format(i, int(mean_val)))\n",
        "  # update the values : if the condition (val ==0) is right\n",
        "  df = df.withColumn(i, when(df[i]==0, int(mean_val)).otherwise(df[i]))\n",
        "\n",
        "df.show(10)"
      ],
      "metadata": {
        "colab": {
          "base_uri": "https://localhost:8080/"
        },
        "id": "dTGs4vC2oBsC",
        "outputId": "d9d0e375-a268-4da1-d7ed-229db7b36fe7"
      },
      "execution_count": null,
      "outputs": [
        {
          "output_type": "stream",
          "name": "stdout",
          "text": [
            "the average value of column Glucose is: 121\n",
            "the average value of column BloodPressure is: 72\n",
            "the average value of column SkinThickness is: 26\n",
            "the average value of column Insulin is: 118\n",
            "the average value of column BMI is: 32\n",
            "+-----------+-------+-------------+-------------+-------+----+------------------------+---+-------+\n",
            "|Pregnancies|Glucose|BloodPressure|SkinThickness|Insulin| BMI|DiabetesPedigreeFunction|Age|Outcome|\n",
            "+-----------+-------+-------------+-------------+-------+----+------------------------+---+-------+\n",
            "|          6|    148|           72|           35|     79|33.6|                   0.627| 50|      1|\n",
            "|          1|     85|           66|           29|     79|26.6|                   0.351| 31|      0|\n",
            "|          8|    183|           64|           20|     79|23.3|                   0.672| 32|      1|\n",
            "|          1|     89|           66|           23|     94|28.1|                   0.167| 21|      0|\n",
            "|          0|    137|           40|           35|    168|43.1|                   2.288| 33|      1|\n",
            "|          5|    116|           74|           20|     79|25.6|                   0.201| 30|      0|\n",
            "|          3|     78|           50|           32|     88|31.0|                   0.248| 26|      1|\n",
            "|         10|    115|           69|           20|     79|35.3|                   0.134| 29|      0|\n",
            "|          2|    197|           70|           45|    543|30.5|                   0.158| 53|      1|\n",
            "|          8|    125|           96|           20|     79|31.0|                   0.232| 54|      1|\n",
            "+-----------+-------+-------------+-------------+-------+----+------------------------+---+-------+\n",
            "only showing top 10 rows\n",
            "\n"
          ]
        }
      ]
    },
    {
      "cell_type": "markdown",
      "source": [
        "The values ​​are replaced correctly:)"
      ],
      "metadata": {
        "id": "0ITB-r5quT4R"
      }
    },
    {
      "cell_type": "markdown",
      "source": [
        "## Build and train the machine learning model\n",
        "### Feature engineering"
      ],
      "metadata": {
        "id": "_ssEmfWmDysD"
      }
    },
    {
      "cell_type": "code",
      "source": [
        "# calculate the correlation between the response variable and the other variables\n",
        "for col in df.columns:\n",
        "  print('The correlation of {} with the outcome variable is {}.'.format(col, df.stat.corr('Outcome', col)))\n",
        "\n",
        "#print(f'The correlation of {col} with the outcome variable is {df.stat.corr('Outcome', col)}.')"
      ],
      "metadata": {
        "id": "iuikqNwcixIY",
        "colab": {
          "base_uri": "https://localhost:8080/"
        },
        "outputId": "2fdd83df-4b9f-48c9-896b-11a782d0ef49"
      },
      "execution_count": null,
      "outputs": [
        {
          "output_type": "stream",
          "name": "stdout",
          "text": [
            "The correlation of Pregnancies with the outcome variable is 0.22189815303398638.\n",
            "The correlation of Glucose with the outcome variable is 0.49288410274882094.\n",
            "The correlation of BloodPressure with the outcome variable is 0.16287909949861834.\n",
            "The correlation of SkinThickness with the outcome variable is 0.171856814176564.\n",
            "The correlation of Insulin with the outcome variable is 0.17869558803050842.\n",
            "The correlation of BMI with the outcome variable is 0.31289043493401536.\n",
            "The correlation of DiabetesPedigreeFunction with the outcome variable is 0.17384406565296007.\n",
            "The correlation of Age with the outcome variable is 0.23835598302719757.\n",
            "The correlation of Outcome with the outcome variable is 1.0.\n"
          ]
        }
      ]
    },
    {
      "cell_type": "markdown",
      "source": [
        "The correlation results indicate that some of the factors can have a significant impact on the outcome of logistic regression.\n",
        "\n",
        "The variables Glucose and BMI have the highest correlations with the outcome, meaning they are most likely to impact the outcome of the logistic regression.\n",
        "The variables Pregnancies, BloodPressure, SkinThickness, Insulin and DiabetesPedigreeFunction have lower correlations with the outcome, meaning they are less likely to impact the outcome of the logistic regression.\n",
        "The Age variable has a moderate correlation with the result, meaning it can have a moderate impact on the outcome of the logistic regression."
      ],
      "metadata": {
        "id": "GJVa_vSRIogS"
      }
    },
    {
      "cell_type": "code",
      "source": [
        "# create a vectorAssembler: it is a feature transformer which merges the different columns into a single vector (features).\n",
        "inputCols = ['Pregnancies' , 'Glucose' , 'BloodPressure', 'SkinThickness' , 'Insulin' , 'BMI' , 'DiabetesPedigreeFunction' ,'Age'  ]\n",
        "assembler = VectorAssembler(inputCols= inputCols, outputCol='features')\n",
        "output_data = assembler.transform(df)"
      ],
      "metadata": {
        "id": "wAFv-CGHFbt3"
      },
      "execution_count": null,
      "outputs": []
    },
    {
      "cell_type": "code",
      "source": [
        "# check if the features column is added to the dataframe\n",
        "output_data.printSchema()"
      ],
      "metadata": {
        "colab": {
          "base_uri": "https://localhost:8080/"
        },
        "id": "CEshPEVBLRi4",
        "outputId": "e95f7137-fc10-428b-e57c-3da013be30fa"
      },
      "execution_count": null,
      "outputs": [
        {
          "output_type": "stream",
          "name": "stdout",
          "text": [
            "root\n",
            " |-- Pregnancies: integer (nullable = true)\n",
            " |-- Glucose: integer (nullable = true)\n",
            " |-- BloodPressure: integer (nullable = true)\n",
            " |-- SkinThickness: integer (nullable = true)\n",
            " |-- Insulin: integer (nullable = true)\n",
            " |-- BMI: double (nullable = true)\n",
            " |-- DiabetesPedigreeFunction: double (nullable = true)\n",
            " |-- Age: integer (nullable = true)\n",
            " |-- Outcome: integer (nullable = true)\n",
            " |-- features: vector (nullable = true)\n",
            "\n"
          ]
        }
      ]
    },
    {
      "cell_type": "code",
      "source": [
        "# show data (3 lines)\n",
        "output_data.show(3)"
      ],
      "metadata": {
        "colab": {
          "base_uri": "https://localhost:8080/"
        },
        "id": "z7B9IBYeL5JW",
        "outputId": "62b99fba-80a7-427f-e25b-00f16f11eaa7"
      },
      "execution_count": null,
      "outputs": [
        {
          "output_type": "stream",
          "name": "stdout",
          "text": [
            "+-----------+-------+-------------+-------------+-------+----+------------------------+---+-------+--------------------+\n",
            "|Pregnancies|Glucose|BloodPressure|SkinThickness|Insulin| BMI|DiabetesPedigreeFunction|Age|Outcome|            features|\n",
            "+-----------+-------+-------------+-------------+-------+----+------------------------+---+-------+--------------------+\n",
            "|          6|    148|           72|           35|     79|33.6|                   0.627| 50|      1|[6.0,148.0,72.0,3...|\n",
            "|          1|     85|           66|           29|     79|26.6|                   0.351| 31|      0|[1.0,85.0,66.0,29...|\n",
            "|          8|    183|           64|           20|     79|23.3|                   0.672| 32|      1|[8.0,183.0,64.0,2...|\n",
            "+-----------+-------+-------------+-------------+-------+----+------------------------+---+-------+--------------------+\n",
            "only showing top 3 rows\n",
            "\n"
          ]
        }
      ]
    },
    {
      "cell_type": "markdown",
      "source": [
        "\n",
        "###Train the model"
      ],
      "metadata": {
        "id": "wphB-0V9MYo_"
      }
    },
    {
      "cell_type": "code",
      "source": [
        "# select the columns of interest\n",
        "final_df = output_data.select('features', 'Outcome')\n",
        "final_df.show(2)"
      ],
      "metadata": {
        "colab": {
          "base_uri": "https://localhost:8080/"
        },
        "id": "_Ucnrh5-MH__",
        "outputId": "f53f08a1-20c7-4aa7-8b3f-1323237d1ddd"
      },
      "execution_count": null,
      "outputs": [
        {
          "output_type": "stream",
          "name": "stdout",
          "text": [
            "+--------------------+-------+\n",
            "|            features|Outcome|\n",
            "+--------------------+-------+\n",
            "|[6.0,148.0,72.0,3...|      1|\n",
            "|[1.0,85.0,66.0,29...|      0|\n",
            "+--------------------+-------+\n",
            "only showing top 2 rows\n",
            "\n"
          ]
        }
      ]
    },
    {
      "cell_type": "code",
      "source": [
        "# split to training (70%) and test (30%)\n",
        "train, test = final_df.randomSplit([0.7, 0.3])\n",
        "\n",
        "# create the template\n",
        "models = LogisticRegression(labelCol='Outcome')\n",
        "\n",
        "# train the model\n",
        "model = models.fit(train)"
      ],
      "metadata": {
        "id": "H1Hd2iW5M7Kv"
      },
      "execution_count": null,
      "outputs": []
    },
    {
      "cell_type": "code",
      "source": [
        "# show summary\n",
        "summary = model.summary"
      ],
      "metadata": {
        "id": "uwkLQ3p7NrF6"
      },
      "execution_count": null,
      "outputs": []
    },
    {
      "cell_type": "code",
      "source": [
        "## prédictions\n",
        "summary.predictions.show()\n",
        "summary.predictions.describe().show()"
      ],
      "metadata": {
        "colab": {
          "base_uri": "https://localhost:8080/"
        },
        "id": "EFM0r2cxOLrQ",
        "outputId": "7821f0b2-b81b-4615-ff63-e8b5a96ca6a1"
      },
      "execution_count": null,
      "outputs": [
        {
          "output_type": "stream",
          "name": "stdout",
          "text": [
            "+--------------------+-------+--------------------+--------------------+----------+\n",
            "|            features|Outcome|       rawPrediction|         probability|prediction|\n",
            "+--------------------+-------+--------------------+--------------------+----------+\n",
            "|[0.0,57.0,60.0,20...|    0.0|[3.79596707671449...|[0.97803224786297...|       0.0|\n",
            "|[0.0,67.0,76.0,20...|    0.0|[2.01192226059791...|[0.88204316690786...|       0.0|\n",
            "|[0.0,73.0,69.0,20...|    0.0|[4.62549974482811...|[0.99029632699917...|       0.0|\n",
            "|[0.0,74.0,52.0,10...|    0.0|[3.67224996675610...|[0.97521090608918...|       0.0|\n",
            "|[0.0,78.0,88.0,29...|    0.0|[2.91989281798889...|[0.94882109461500...|       0.0|\n",
            "|[0.0,84.0,64.0,22...|    0.0|[2.40152317426970...|[0.91694337943944...|       0.0|\n",
            "|[0.0,86.0,68.0,32...|    0.0|[2.66076718775379...|[0.93467152719219...|       0.0|\n",
            "|[0.0,91.0,68.0,32...|    0.0|[2.06774954765924...|[0.88772886275497...|       0.0|\n",
            "|[0.0,91.0,80.0,20...|    0.0|[2.50615914813553...|[0.92457247277558...|       0.0|\n",
            "|[0.0,93.0,60.0,20...|    0.0|[2.24925825143635...|[0.90458653418762...|       0.0|\n",
            "|[0.0,93.0,60.0,25...|    0.0|[2.81063825395399...|[0.94324799536803...|       0.0|\n",
            "|[0.0,95.0,64.0,39...|    0.0|[1.30847893435550...|[0.78725851524310...|       0.0|\n",
            "|[0.0,97.0,64.0,36...|    0.0|[1.75566755049674...|[0.85266622074774...|       0.0|\n",
            "|[0.0,98.0,82.0,15...|    0.0|[3.42122858830024...|[0.96836143424441...|       0.0|\n",
            "|[0.0,100.0,70.0,2...|    0.0|[2.32129398067747...|[0.91062530965648...|       0.0|\n",
            "|[0.0,101.0,65.0,2...|    0.0|[3.28538231851696...|[0.96392391965310...|       0.0|\n",
            "|[0.0,101.0,76.0,2...|    0.0|[2.12007549000152...|[0.89283915241476...|       0.0|\n",
            "|[0.0,102.0,64.0,4...|    0.0|[1.35216340699029...|[0.79448309371001...|       0.0|\n",
            "|[0.0,102.0,75.0,2...|    0.0|[2.33150204227701...|[0.91145263660535...|       0.0|\n",
            "|[0.0,102.0,78.0,4...|    0.0|[2.36117429801849...|[0.91381833157843...|       0.0|\n",
            "+--------------------+-------+--------------------+--------------------+----------+\n",
            "only showing top 20 rows\n",
            "\n",
            "+-------+-------------------+------------------+\n",
            "|summary|            Outcome|        prediction|\n",
            "+-------+-------------------+------------------+\n",
            "|  count|                539|               539|\n",
            "|   mean|0.34137291280148424|0.2634508348794063|\n",
            "| stddev| 0.4746107464834307|0.4409140165339126|\n",
            "|    min|                0.0|               0.0|\n",
            "|    max|                1.0|               1.0|\n",
            "+-------+-------------------+------------------+\n",
            "\n"
          ]
        }
      ]
    },
    {
      "cell_type": "markdown",
      "source": [
        "## model evalution"
      ],
      "metadata": {
        "id": "1aCSdTMPPNQl"
      }
    },
    {
      "cell_type": "markdown",
      "source": [
        "BinaryClassificationEvaluator from pysparkML is an evaluation tool that allows you to measure the performance of a binary classification model. It provides metrics such as precision, recall, area under the ROC curve (AUC): default, and precision-recall. These metrics can be used to compare model performance and determine the best model to use."
      ],
      "metadata": {
        "id": "aznccM13QuQm"
      }
    },
    {
      "cell_type": "code",
      "source": [
        "# feed test data in the model and evaluate it\n",
        "predictions = model.evaluate(test)"
      ],
      "metadata": {
        "id": "ijAp9hUDPEks"
      },
      "execution_count": null,
      "outputs": []
    },
    {
      "cell_type": "code",
      "source": [],
      "metadata": {
        "id": "5rQK-J0fN2sr"
      },
      "execution_count": null,
      "outputs": []
    },
    {
      "cell_type": "code",
      "source": [
        "# prédictions\n",
        "predictions.predictions.show(15)"
      ],
      "metadata": {
        "colab": {
          "base_uri": "https://localhost:8080/"
        },
        "id": "b4KRqpNjPQcP",
        "outputId": "d4338e9e-3a49-4fd1-d8f3-8332d2075fcf"
      },
      "execution_count": null,
      "outputs": [
        {
          "output_type": "stream",
          "name": "stdout",
          "text": [
            "+--------------------+-------+--------------------+--------------------+----------+\n",
            "|            features|Outcome|       rawPrediction|         probability|prediction|\n",
            "+--------------------+-------+--------------------+--------------------+----------+\n",
            "|[0.0,84.0,82.0,31...|      0|[2.75975543234654...|[0.94046194135391...|       0.0|\n",
            "|[0.0,93.0,100.0,3...|      0|[0.97087648510295...|[0.72529416538706...|       0.0|\n",
            "|[0.0,94.0,69.0,20...|      0|[2.79187073785516...|[0.94223494998653...|       0.0|\n",
            "|[0.0,94.0,70.0,27...|      0|[1.53166019195979...|[0.82224909026757...|       0.0|\n",
            "|[0.0,95.0,80.0,45...|      0|[2.34359446832630...|[0.91242373325688...|       0.0|\n",
            "|[0.0,95.0,85.0,25...|      1|[2.24111638345219...|[0.90388149313445...|       0.0|\n",
            "|[0.0,99.0,69.0,20...|      0|[3.3115734710956,...|[0.96482372175932...|       0.0|\n",
            "|[0.0,100.0,88.0,6...|      0|[0.49000253798499...|[0.62010703022731...|       0.0|\n",
            "|[0.0,101.0,62.0,2...|      0|[3.33704060758054...|[0.96567789096433...|       0.0|\n",
            "|[0.0,101.0,64.0,1...|      0|[3.61282382931462...|[0.97373300227718...|       0.0|\n",
            "|[0.0,102.0,52.0,2...|      0|[3.17153555956629...|[0.95974894653101...|       0.0|\n",
            "|[0.0,105.0,90.0,2...|      0|[2.36005460022683...|[0.91373010959503...|       0.0|\n",
            "|[0.0,106.0,70.0,3...|      0|[1.32080530564202...|[0.78931565719368...|       0.0|\n",
            "|[0.0,107.0,60.0,2...|      0|[2.85454969834007...|[0.94555338654276...|       0.0|\n",
            "|[0.0,107.0,62.0,3...|      1|[1.12536155633337...|[0.75498187525809...|       0.0|\n",
            "+--------------------+-------+--------------------+--------------------+----------+\n",
            "only showing top 15 rows\n",
            "\n"
          ]
        }
      ]
    },
    {
      "cell_type": "markdown",
      "source": [
        "In most cases (on the 15 lines displayed), the regression model predicts the results well."
      ],
      "metadata": {
        "id": "rBI-mEaFS685"
      }
    },
    {
      "cell_type": "code",
      "source": [
        "from pyspark.ml import evaluation\n",
        "# model evalution\n",
        "evaluator = BinaryClassificationEvaluator(rawPredictionCol='rawPrediction', labelCol='Outcome')\n",
        "evaluator.evaluate(model.transform(test))"
      ],
      "metadata": {
        "colab": {
          "base_uri": "https://localhost:8080/"
        },
        "id": "MkocDteKR2RZ",
        "outputId": "7d5c2fb6-72c1-4d3c-d0ba-f14b91ca519c"
      },
      "execution_count": null,
      "outputs": [
        {
          "output_type": "execute_result",
          "data": {
            "text/plain": [
              "0.8291461412151067"
            ]
          },
          "metadata": {},
          "execution_count": 23
        }
      ]
    },
    {
      "cell_type": "markdown",
      "source": [
        "The results show that the regression model has an accuracy of 83%, which is quite good. This means that the model is able to predict with high accuracy whether an individual will have a positive (ill) or negative (diabetic) outcome."
      ],
      "metadata": {
        "id": "i38jp0GKTkT3"
      }
    }
  ]
}